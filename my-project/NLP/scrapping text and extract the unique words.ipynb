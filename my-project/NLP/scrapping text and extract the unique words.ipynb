{
 "cells": [
  {
   "cell_type": "code",
   "execution_count": 34,
   "id": "initial_id",
   "metadata": {
    "collapsed": true,
    "ExecuteTime": {
     "end_time": "2024-03-15T23:35:25.428108500Z",
     "start_time": "2024-03-15T23:35:24.626646800Z"
    }
   },
   "outputs": [
    {
     "name": "stdout",
     "output_type": "stream",
     "text": [
      "[\"Grant's Canal was a military project to construct a canal through a bend in the Mississippi River opposite Vicksburg, Mississippi, during the American Civil War. Control of Vicksburg and the Mississippi was considered crucial by both the Union and the Confederacy.  In June\\xa01862, Union officer Thomas Williams was sent to De Soto Point with his men to dig a canal to bypass the strong Confederate defenses around Vicksburg.  Disease and falling river levels prevented completion, and the project was abandoned until January\\xa01863, when Ulysses S. Grant took an interest.  The upstream entrance of the canal was moved, but heavy rains and flooding interfered with the project.  Work was abandoned in March, and Grant eventually used other methods to capture Vicksburg.  In 1876, the Mississippi changed course, cutting across De Soto Point near the route of the old canal and isolating Vicksburg from the river.  The city's river access has since been restored.  Only a small section of the canal survives. (Full\\xa0article...)\", 'March 15: Ides of March', \"The Philippine television newscast 24 Oras has won thirty-two awards from ninety-three nominations. It premiered on GMA Network on March\\xa015, 2004, and focuses on reportage of present-day events, incorporating disparate segments that appear recurringly. The newscast initially featured Mel Tiangco and Mike Enriquez; the newscast's anchors have changed significantly during its run. It has won five Box Office Entertainment Awards for Most Popular TV Program News & Public Affairs. The newscast has received eight Asian Academy Creative Award nominations (winning one) and fifty-two PMPC Star Awards for Television nominations (winning nine). At the 2009 New York Festivals TV & Film Awards, 24 Oras garnered a Gold World Medal and a Silver World Medal. It was nominated for International Emmy Award for Best News in 2013 and received a Peabody Award in 2014. (Full\\xa0list...)\", \"Fushimi Inari-taisha  is the main Shinto shrine of the Japanese deity Inari Ōkami, located in Fushimi-ku, Kyoto. It sits at the base of a mountain, also named Inari, located 233 metres (764\\xa0ft) above sea level. The site's earliest structures were built in 711 on the Inariyama hill in southwestern Kyoto, but the shrine was re-located in 816 on the request of the monk Kūkai. It gained imperial patronage during the early Heian period and the main shrine structure was built in 1499. This photograph shows a torii path at Fushimi Inari-taisha with a hanging lantern. Each of the shrine's roughly 10,000 torii (gates) was donated by a Japanese business, and approximately 800 of these are set up in rows, as depicted here, that give the impression of entering a tunnel.\", 'Photograph credit: Basile Morin', 'Wikipedia is written by volunteer editors and hosted by the Wikimedia Foundation, a non-profit organization that also hosts a range of other volunteer projects:', 'This Wikipedia is written in English. Many other Wikipedias are available; some of the largest are listed below.']\n"
     ]
    }
   ],
   "source": [
    "from bs4 import BeautifulSoup\n",
    "import requests\n",
    "\n",
    "url = \"https://en.wikipedia.org/wiki/Main_Page\"\n",
    "response = requests.get(url)\n",
    "soup = BeautifulSoup(response.text, 'html.parser')\n",
    "paragraphs = soup.find_all('p')\n",
    "paragraph_text = [p.get_text().strip() for p in paragraphs]\n",
    "print(paragraph_text)\n"
   ]
  },
  {
   "cell_type": "code",
   "outputs": [
    {
     "name": "stdout",
     "output_type": "stream",
     "text": [
      "['Grants Canal was a military project to construct a canal through a bend in the Mississippi River opposite Vicksburg Mississippi during the American Civil War Control of Vicksburg and the Mississippi was considered crucial by both the Union and the Confederacy  In June\\xa01862 Union officer Thomas Williams was sent to De Soto Point with his men to dig a canal to bypass the strong Confederate defenses around Vicksburg  Disease and falling river levels prevented completion and the project was abandoned until January\\xa01863 when Ulysses S Grant took an interest  The upstream entrance of the canal was moved but heavy rains and flooding interfered with the project  Work was abandoned in March and Grant eventually used other methods to capture Vicksburg  In 1876 the Mississippi changed course cutting across De Soto Point near the route of the old canal and isolating Vicksburg from the river  The citys river access has since been restored  Only a small section of the canal survives Full\\xa0article', 'Grants Canal was a military project to construct a canal through a bend in the Mississippi River opposite Vicksburg Mississippi during the American Civil War Control of Vicksburg and the Mississippi was considered crucial by both the Union and the Confederacy  In June\\xa01862 Union officer Thomas Williams was sent to De Soto Point with his men to dig a canal to bypass the strong Confederate defenses around Vicksburg  Disease and falling river levels prevented completion and the project was abandoned until January\\xa01863 when Ulysses S Grant took an interest  The upstream entrance of the canal was moved but heavy rains and flooding interfered with the project  Work was abandoned in March and Grant eventually used other methods to capture Vicksburg  In 1876 the Mississippi changed course cutting across De Soto Point near the route of the old canal and isolating Vicksburg from the river  The citys river access has since been restored  Only a small section of the canal survives Full\\xa0article', 'March 15 Ides of March', 'March 15 Ides of March', 'The Philippine television newscast 24 Oras has won thirtytwo awards from ninetythree nominations It premiered on GMA Network on March\\xa015 2004 and focuses on reportage of presentday events incorporating disparate segments that appear recurringly The newscast initially featured Mel Tiangco and Mike Enriquez the newscasts anchors have changed significantly during its run It has won five Box Office Entertainment Awards for Most Popular TV Program News  Public Affairs The newscast has received eight Asian Academy Creative Award nominations winning one and fiftytwo PMPC Star Awards for Television nominations winning nine At the 2009 New York Festivals TV  Film Awards 24 Oras garnered a Gold World Medal and a Silver World Medal It was nominated for International Emmy Award for Best News in 2013 and received a Peabody Award in 2014 Full\\xa0list', 'The Philippine television newscast 24 Oras has won thirtytwo awards from ninetythree nominations It premiered on GMA Network on March\\xa015 2004 and focuses on reportage of presentday events incorporating disparate segments that appear recurringly The newscast initially featured Mel Tiangco and Mike Enriquez the newscasts anchors have changed significantly during its run It has won five Box Office Entertainment Awards for Most Popular TV Program News  Public Affairs The newscast has received eight Asian Academy Creative Award nominations winning one and fiftytwo PMPC Star Awards for Television nominations winning nine At the 2009 New York Festivals TV  Film Awards 24 Oras garnered a Gold World Medal and a Silver World Medal It was nominated for International Emmy Award for Best News in 2013 and received a Peabody Award in 2014 Full\\xa0list', 'Fushimi Inaritaisha  is the main Shinto shrine of the Japanese deity Inari kami located in Fushimiku Kyoto It sits at the base of a mountain also named Inari located 233 metres 764\\xa0ft above sea level The sites earliest structures were built in 711 on the Inariyama hill in southwestern Kyoto but the shrine was relocated in 816 on the request of the monk Kkai It gained imperial patronage during the early Heian period and the main shrine structure was built in 1499 This photograph shows a torii path at Fushimi Inaritaisha with a hanging lantern Each of the shrines roughly 10000 torii gates was donated by a Japanese business and approximately 800 of these are set up in rows as depicted here that give the impression of entering a tunnel', 'Fushimi Inaritaisha  is the main Shinto shrine of the Japanese deity Inari kami located in Fushimiku Kyoto It sits at the base of a mountain also named Inari located 233 metres 764\\xa0ft above sea level The sites earliest structures were built in 711 on the Inariyama hill in southwestern Kyoto but the shrine was relocated in 816 on the request of the monk Kkai It gained imperial patronage during the early Heian period and the main shrine structure was built in 1499 This photograph shows a torii path at Fushimi Inaritaisha with a hanging lantern Each of the shrines roughly 10000 torii gates was donated by a Japanese business and approximately 800 of these are set up in rows as depicted here that give the impression of entering a tunnel', 'Photograph credit Basile Morin', 'Photograph credit Basile Morin', 'Wikipedia is written by volunteer editors and hosted by the Wikimedia Foundation a nonprofit organization that also hosts a range of other volunteer projects', 'Wikipedia is written by volunteer editors and hosted by the Wikimedia Foundation a nonprofit organization that also hosts a range of other volunteer projects', 'This Wikipedia is written in English Many other Wikipedias are available some of the largest are listed below', 'This Wikipedia is written in English Many other Wikipedias are available some of the largest are listed below']\n"
     ]
    }
   ],
   "source": [
    "import re\n",
    "\n",
    "def clean_data(data):\n",
    "    cleaned_data = []\n",
    "    for entry in data:\n",
    "        cleaned_entry = re.sub(r'[^a-zA-Z0-9\\s]', '', entry)  # Remove all non-alphanumeric characters\n",
    "        cleaned_data.append(cleaned_entry.strip()) \n",
    "        cleaned_data.append(cleaned_entry)\n",
    "    return cleaned_data\n",
    "\n",
    "# Clean the data\n",
    "cleaned_data = clean_data(paragraph_text)\n",
    "\n",
    "# Print the cleaned data\n",
    "print(cleaned_data)\n"
   ],
   "metadata": {
    "collapsed": false,
    "ExecuteTime": {
     "end_time": "2024-03-15T23:35:25.434950Z",
     "start_time": "2024-03-15T23:35:25.429106Z"
    }
   },
   "id": "e23cb63d61208778",
   "execution_count": 35
  },
  {
   "cell_type": "code",
   "outputs": [
    {
     "name": "stdout",
     "output_type": "stream",
     "text": [
      "['grants canal was a military project to construct a canal through a bend in the mississippi river opposite vicksburg mississippi during the american civil war control of vicksburg and the mississippi was considered crucial by both the union and the confederacy  in june\\xa01862 union officer thomas williams was sent to de soto point with his men to dig a canal to bypass the strong confederate defenses around vicksburg  disease and falling river levels prevented completion and the project was abandoned until january\\xa01863 when ulysses s grant took an interest  the upstream entrance of the canal was moved but heavy rains and flooding interfered with the project  work was abandoned in march and grant eventually used other methods to capture vicksburg  in 1876 the mississippi changed course cutting across de soto point near the route of the old canal and isolating vicksburg from the river  the citys river access has since been restored  only a small section of the canal survives full\\xa0article', 'grants canal was a military project to construct a canal through a bend in the mississippi river opposite vicksburg mississippi during the american civil war control of vicksburg and the mississippi was considered crucial by both the union and the confederacy  in june\\xa01862 union officer thomas williams was sent to de soto point with his men to dig a canal to bypass the strong confederate defenses around vicksburg  disease and falling river levels prevented completion and the project was abandoned until january\\xa01863 when ulysses s grant took an interest  the upstream entrance of the canal was moved but heavy rains and flooding interfered with the project  work was abandoned in march and grant eventually used other methods to capture vicksburg  in 1876 the mississippi changed course cutting across de soto point near the route of the old canal and isolating vicksburg from the river  the citys river access has since been restored  only a small section of the canal survives full\\xa0article', 'march 15 ides of march', 'march 15 ides of march', 'the philippine television newscast 24 oras has won thirtytwo awards from ninetythree nominations it premiered on gma network on march\\xa015 2004 and focuses on reportage of presentday events incorporating disparate segments that appear recurringly the newscast initially featured mel tiangco and mike enriquez the newscasts anchors have changed significantly during its run it has won five box office entertainment awards for most popular tv program news  public affairs the newscast has received eight asian academy creative award nominations winning one and fiftytwo pmpc star awards for television nominations winning nine at the 2009 new york festivals tv  film awards 24 oras garnered a gold world medal and a silver world medal it was nominated for international emmy award for best news in 2013 and received a peabody award in 2014 full\\xa0list', 'the philippine television newscast 24 oras has won thirtytwo awards from ninetythree nominations it premiered on gma network on march\\xa015 2004 and focuses on reportage of presentday events incorporating disparate segments that appear recurringly the newscast initially featured mel tiangco and mike enriquez the newscasts anchors have changed significantly during its run it has won five box office entertainment awards for most popular tv program news  public affairs the newscast has received eight asian academy creative award nominations winning one and fiftytwo pmpc star awards for television nominations winning nine at the 2009 new york festivals tv  film awards 24 oras garnered a gold world medal and a silver world medal it was nominated for international emmy award for best news in 2013 and received a peabody award in 2014 full\\xa0list', 'fushimi inaritaisha  is the main shinto shrine of the japanese deity inari kami located in fushimiku kyoto it sits at the base of a mountain also named inari located 233 metres 764\\xa0ft above sea level the sites earliest structures were built in 711 on the inariyama hill in southwestern kyoto but the shrine was relocated in 816 on the request of the monk kkai it gained imperial patronage during the early heian period and the main shrine structure was built in 1499 this photograph shows a torii path at fushimi inaritaisha with a hanging lantern each of the shrines roughly 10000 torii gates was donated by a japanese business and approximately 800 of these are set up in rows as depicted here that give the impression of entering a tunnel', 'fushimi inaritaisha  is the main shinto shrine of the japanese deity inari kami located in fushimiku kyoto it sits at the base of a mountain also named inari located 233 metres 764\\xa0ft above sea level the sites earliest structures were built in 711 on the inariyama hill in southwestern kyoto but the shrine was relocated in 816 on the request of the monk kkai it gained imperial patronage during the early heian period and the main shrine structure was built in 1499 this photograph shows a torii path at fushimi inaritaisha with a hanging lantern each of the shrines roughly 10000 torii gates was donated by a japanese business and approximately 800 of these are set up in rows as depicted here that give the impression of entering a tunnel', 'photograph credit basile morin', 'photograph credit basile morin', 'wikipedia is written by volunteer editors and hosted by the wikimedia foundation a nonprofit organization that also hosts a range of other volunteer projects', 'wikipedia is written by volunteer editors and hosted by the wikimedia foundation a nonprofit organization that also hosts a range of other volunteer projects', 'this wikipedia is written in english many other wikipedias are available some of the largest are listed below', 'this wikipedia is written in english many other wikipedias are available some of the largest are listed below']\n"
     ]
    }
   ],
   "source": [
    "normalized_data = [word.lower() for word in cleaned_data]\n",
    "\n",
    "print(normalized_data)"
   ],
   "metadata": {
    "collapsed": false,
    "ExecuteTime": {
     "end_time": "2024-03-15T23:35:25.442454800Z",
     "start_time": "2024-03-15T23:35:25.434950Z"
    }
   },
   "id": "28126528cbbd5e1b",
   "execution_count": 36
  },
  {
   "cell_type": "code",
   "outputs": [
    {
     "name": "stdout",
     "output_type": "stream",
     "text": [
      "['grants', 'canal', 'was', 'a', 'military', 'project', 'to', 'construct', 'a', 'canal', 'through', 'a', 'bend', 'in', 'the', 'mississippi', 'river', 'opposite', 'vicksburg', 'mississippi', 'during', 'the', 'american', 'civil', 'war', 'control', 'of', 'vicksburg', 'and', 'the', 'mississippi', 'was', 'considered', 'crucial', 'by', 'both', 'the', 'union', 'and', 'the', 'confederacy', 'in', 'june', '1862', 'union', 'officer', 'thomas', 'williams', 'was', 'sent', 'to', 'de', 'soto', 'point', 'with', 'his', 'men', 'to', 'dig', 'a', 'canal', 'to', 'bypass', 'the', 'strong', 'confederate', 'defenses', 'around', 'vicksburg', 'disease', 'and', 'falling', 'river', 'levels', 'prevented', 'completion', 'and', 'the', 'project', 'was', 'abandoned', 'until', 'january', '1863', 'when', 'ulysses', 's', 'grant', 'took', 'an', 'interest', 'the', 'upstream', 'entrance', 'of', 'the', 'canal', 'was', 'moved', 'but', 'heavy', 'rains', 'and', 'flooding', 'interfered', 'with', 'the', 'project', 'work', 'was', 'abandoned', 'in', 'march', 'and', 'grant', 'eventually', 'used', 'other', 'methods', 'to', 'capture', 'vicksburg', 'in', '1876', 'the', 'mississippi', 'changed', 'course', 'cutting', 'across', 'de', 'soto', 'point', 'near', 'the', 'route', 'of', 'the', 'old', 'canal', 'and', 'isolating', 'vicksburg', 'from', 'the', 'river', 'the', 'citys', 'river', 'access', 'has', 'since', 'been', 'restored', 'only', 'a', 'small', 'section', 'of', 'the', 'canal', 'survives', 'full', 'article', 'grants', 'canal', 'was', 'a', 'military', 'project', 'to', 'construct', 'a', 'canal', 'through', 'a', 'bend', 'in', 'the', 'mississippi', 'river', 'opposite', 'vicksburg', 'mississippi', 'during', 'the', 'american', 'civil', 'war', 'control', 'of', 'vicksburg', 'and', 'the', 'mississippi', 'was', 'considered', 'crucial', 'by', 'both', 'the', 'union', 'and', 'the', 'confederacy', 'in', 'june', '1862', 'union', 'officer', 'thomas', 'williams', 'was', 'sent', 'to', 'de', 'soto', 'point', 'with', 'his', 'men', 'to', 'dig', 'a', 'canal', 'to', 'bypass', 'the', 'strong', 'confederate', 'defenses', 'around', 'vicksburg', 'disease', 'and', 'falling', 'river', 'levels', 'prevented', 'completion', 'and', 'the', 'project', 'was', 'abandoned', 'until', 'january', '1863', 'when', 'ulysses', 's', 'grant', 'took', 'an', 'interest', 'the', 'upstream', 'entrance', 'of', 'the', 'canal', 'was', 'moved', 'but', 'heavy', 'rains', 'and', 'flooding', 'interfered', 'with', 'the', 'project', 'work', 'was', 'abandoned', 'in', 'march', 'and', 'grant', 'eventually', 'used', 'other', 'methods', 'to', 'capture', 'vicksburg', 'in', '1876', 'the', 'mississippi', 'changed', 'course', 'cutting', 'across', 'de', 'soto', 'point', 'near', 'the', 'route', 'of', 'the', 'old', 'canal', 'and', 'isolating', 'vicksburg', 'from', 'the', 'river', 'the', 'citys', 'river', 'access', 'has', 'since', 'been', 'restored', 'only', 'a', 'small', 'section', 'of', 'the', 'canal', 'survives', 'full', 'article', 'march', '15', 'ides', 'of', 'march', 'march', '15', 'ides', 'of', 'march', 'the', 'philippine', 'television', 'newscast', '24', 'oras', 'has', 'won', 'thirtytwo', 'awards', 'from', 'ninetythree', 'nominations', 'it', 'premiered', 'on', 'gma', 'network', 'on', 'march', '15', '2004', 'and', 'focuses', 'on', 'reportage', 'of', 'presentday', 'events', 'incorporating', 'disparate', 'segments', 'that', 'appear', 'recurringly', 'the', 'newscast', 'initially', 'featured', 'mel', 'tiangco', 'and', 'mike', 'enriquez', 'the', 'newscasts', 'anchors', 'have', 'changed', 'significantly', 'during', 'its', 'run', 'it', 'has', 'won', 'five', 'box', 'office', 'entertainment', 'awards', 'for', 'most', 'popular', 'tv', 'program', 'news', 'public', 'affairs', 'the', 'newscast', 'has', 'received', 'eight', 'asian', 'academy', 'creative', 'award', 'nominations', 'winning', 'one', 'and', 'fiftytwo', 'pmpc', 'star', 'awards', 'for', 'television', 'nominations', 'winning', 'nine', 'at', 'the', '2009', 'new', 'york', 'festivals', 'tv', 'film', 'awards', '24', 'oras', 'garnered', 'a', 'gold', 'world', 'medal', 'and', 'a', 'silver', 'world', 'medal', 'it', 'was', 'nominated', 'for', 'international', 'emmy', 'award', 'for', 'best', 'news', 'in', '2013', 'and', 'received', 'a', 'peabody', 'award', 'in', '2014', 'full', 'list', 'the', 'philippine', 'television', 'newscast', '24', 'oras', 'has', 'won', 'thirtytwo', 'awards', 'from', 'ninetythree', 'nominations', 'it', 'premiered', 'on', 'gma', 'network', 'on', 'march', '15', '2004', 'and', 'focuses', 'on', 'reportage', 'of', 'presentday', 'events', 'incorporating', 'disparate', 'segments', 'that', 'appear', 'recurringly', 'the', 'newscast', 'initially', 'featured', 'mel', 'tiangco', 'and', 'mike', 'enriquez', 'the', 'newscasts', 'anchors', 'have', 'changed', 'significantly', 'during', 'its', 'run', 'it', 'has', 'won', 'five', 'box', 'office', 'entertainment', 'awards', 'for', 'most', 'popular', 'tv', 'program', 'news', 'public', 'affairs', 'the', 'newscast', 'has', 'received', 'eight', 'asian', 'academy', 'creative', 'award', 'nominations', 'winning', 'one', 'and', 'fiftytwo', 'pmpc', 'star', 'awards', 'for', 'television', 'nominations', 'winning', 'nine', 'at', 'the', '2009', 'new', 'york', 'festivals', 'tv', 'film', 'awards', '24', 'oras', 'garnered', 'a', 'gold', 'world', 'medal', 'and', 'a', 'silver', 'world', 'medal', 'it', 'was', 'nominated', 'for', 'international', 'emmy', 'award', 'for', 'best', 'news', 'in', '2013', 'and', 'received', 'a', 'peabody', 'award', 'in', '2014', 'full', 'list', 'fushimi', 'inaritaisha', 'is', 'the', 'main', 'shinto', 'shrine', 'of', 'the', 'japanese', 'deity', 'inari', 'kami', 'located', 'in', 'fushimiku', 'kyoto', 'it', 'sits', 'at', 'the', 'base', 'of', 'a', 'mountain', 'also', 'named', 'inari', 'located', '233', 'metres', '764', 'ft', 'above', 'sea', 'level', 'the', 'sites', 'earliest', 'structures', 'were', 'built', 'in', '711', 'on', 'the', 'inariyama', 'hill', 'in', 'southwestern', 'kyoto', 'but', 'the', 'shrine', 'was', 'relocated', 'in', '816', 'on', 'the', 'request', 'of', 'the', 'monk', 'kkai', 'it', 'gained', 'imperial', 'patronage', 'during', 'the', 'early', 'heian', 'period', 'and', 'the', 'main', 'shrine', 'structure', 'was', 'built', 'in', '1499', 'this', 'photograph', 'shows', 'a', 'torii', 'path', 'at', 'fushimi', 'inaritaisha', 'with', 'a', 'hanging', 'lantern', 'each', 'of', 'the', 'shrines', 'roughly', '10000', 'torii', 'gates', 'was', 'donated', 'by', 'a', 'japanese', 'business', 'and', 'approximately', '800', 'of', 'these', 'are', 'set', 'up', 'in', 'rows', 'as', 'depicted', 'here', 'that', 'give', 'the', 'impression', 'of', 'entering', 'a', 'tunnel', 'fushimi', 'inaritaisha', 'is', 'the', 'main', 'shinto', 'shrine', 'of', 'the', 'japanese', 'deity', 'inari', 'kami', 'located', 'in', 'fushimiku', 'kyoto', 'it', 'sits', 'at', 'the', 'base', 'of', 'a', 'mountain', 'also', 'named', 'inari', 'located', '233', 'metres', '764', 'ft', 'above', 'sea', 'level', 'the', 'sites', 'earliest', 'structures', 'were', 'built', 'in', '711', 'on', 'the', 'inariyama', 'hill', 'in', 'southwestern', 'kyoto', 'but', 'the', 'shrine', 'was', 'relocated', 'in', '816', 'on', 'the', 'request', 'of', 'the', 'monk', 'kkai', 'it', 'gained', 'imperial', 'patronage', 'during', 'the', 'early', 'heian', 'period', 'and', 'the', 'main', 'shrine', 'structure', 'was', 'built', 'in', '1499', 'this', 'photograph', 'shows', 'a', 'torii', 'path', 'at', 'fushimi', 'inaritaisha', 'with', 'a', 'hanging', 'lantern', 'each', 'of', 'the', 'shrines', 'roughly', '10000', 'torii', 'gates', 'was', 'donated', 'by', 'a', 'japanese', 'business', 'and', 'approximately', '800', 'of', 'these', 'are', 'set', 'up', 'in', 'rows', 'as', 'depicted', 'here', 'that', 'give', 'the', 'impression', 'of', 'entering', 'a', 'tunnel', 'photograph', 'credit', 'basile', 'morin', 'photograph', 'credit', 'basile', 'morin', 'wikipedia', 'is', 'written', 'by', 'volunteer', 'editors', 'and', 'hosted', 'by', 'the', 'wikimedia', 'foundation', 'a', 'nonprofit', 'organization', 'that', 'also', 'hosts', 'a', 'range', 'of', 'other', 'volunteer', 'projects', 'wikipedia', 'is', 'written', 'by', 'volunteer', 'editors', 'and', 'hosted', 'by', 'the', 'wikimedia', 'foundation', 'a', 'nonprofit', 'organization', 'that', 'also', 'hosts', 'a', 'range', 'of', 'other', 'volunteer', 'projects', 'this', 'wikipedia', 'is', 'written', 'in', 'english', 'many', 'other', 'wikipedias', 'are', 'available', 'some', 'of', 'the', 'largest', 'are', 'listed', 'below', 'this', 'wikipedia', 'is', 'written', 'in', 'english', 'many', 'other', 'wikipedias', 'are', 'available', 'some', 'of', 'the', 'largest', 'are', 'listed', 'below']\n"
     ]
    }
   ],
   "source": [
    "words = []\n",
    "for sentence in normalized_data:\n",
    "    words.extend(sentence.split())\n",
    "\n",
    "print(words)"
   ],
   "metadata": {
    "collapsed": false,
    "ExecuteTime": {
     "end_time": "2024-03-15T23:35:25.448534500Z",
     "start_time": "2024-03-15T23:35:25.442454800Z"
    }
   },
   "id": "3f121bc45715bb02",
   "execution_count": 37
  },
  {
   "cell_type": "code",
   "outputs": [
    {
     "name": "stdout",
     "output_type": "stream",
     "text": [
      "['grant', 'canal', 'wa', 'a', 'militari', 'project', 'to', 'construct', 'a', 'canal', 'through', 'a', 'bend', 'in', 'the', 'mississippi', 'river', 'opposit', 'vicksburg', 'mississippi', 'dure', 'the', 'american', 'civil', 'war', 'control', 'of', 'vicksburg', 'and', 'the', 'mississippi', 'wa', 'consid', 'crucial', 'by', 'both', 'the', 'union', 'and', 'the', 'confederaci', 'in', 'june', '1862', 'union', 'offic', 'thoma', 'william', 'wa', 'sent', 'to', 'de', 'soto', 'point', 'with', 'hi', 'men', 'to', 'dig', 'a', 'canal', 'to', 'bypass', 'the', 'strong', 'confeder', 'defens', 'around', 'vicksburg', 'diseas', 'and', 'fall', 'river', 'level', 'prevent', 'complet', 'and', 'the', 'project', 'wa', 'abandon', 'until', 'januari', '1863', 'when', 'ulyss', 's', 'grant', 'took', 'an', 'interest', 'the', 'upstream', 'entranc', 'of', 'the', 'canal', 'wa', 'move', 'but', 'heavi', 'rain', 'and', 'flood', 'interf', 'with', 'the', 'project', 'work', 'wa', 'abandon', 'in', 'march', 'and', 'grant', 'eventu', 'use', 'other', 'method', 'to', 'captur', 'vicksburg', 'in', '1876', 'the', 'mississippi', 'chang', 'cours', 'cut', 'across', 'de', 'soto', 'point', 'near', 'the', 'rout', 'of', 'the', 'old', 'canal', 'and', 'isol', 'vicksburg', 'from', 'the', 'river', 'the', 'citi', 'river', 'access', 'ha', 'sinc', 'been', 'restor', 'onli', 'a', 'small', 'section', 'of', 'the', 'canal', 'surviv', 'full', 'articl', 'grant', 'canal', 'wa', 'a', 'militari', 'project', 'to', 'construct', 'a', 'canal', 'through', 'a', 'bend', 'in', 'the', 'mississippi', 'river', 'opposit', 'vicksburg', 'mississippi', 'dure', 'the', 'american', 'civil', 'war', 'control', 'of', 'vicksburg', 'and', 'the', 'mississippi', 'wa', 'consid', 'crucial', 'by', 'both', 'the', 'union', 'and', 'the', 'confederaci', 'in', 'june', '1862', 'union', 'offic', 'thoma', 'william', 'wa', 'sent', 'to', 'de', 'soto', 'point', 'with', 'hi', 'men', 'to', 'dig', 'a', 'canal', 'to', 'bypass', 'the', 'strong', 'confeder', 'defens', 'around', 'vicksburg', 'diseas', 'and', 'fall', 'river', 'level', 'prevent', 'complet', 'and', 'the', 'project', 'wa', 'abandon', 'until', 'januari', '1863', 'when', 'ulyss', 's', 'grant', 'took', 'an', 'interest', 'the', 'upstream', 'entranc', 'of', 'the', 'canal', 'wa', 'move', 'but', 'heavi', 'rain', 'and', 'flood', 'interf', 'with', 'the', 'project', 'work', 'wa', 'abandon', 'in', 'march', 'and', 'grant', 'eventu', 'use', 'other', 'method', 'to', 'captur', 'vicksburg', 'in', '1876', 'the', 'mississippi', 'chang', 'cours', 'cut', 'across', 'de', 'soto', 'point', 'near', 'the', 'rout', 'of', 'the', 'old', 'canal', 'and', 'isol', 'vicksburg', 'from', 'the', 'river', 'the', 'citi', 'river', 'access', 'ha', 'sinc', 'been', 'restor', 'onli', 'a', 'small', 'section', 'of', 'the', 'canal', 'surviv', 'full', 'articl', 'march', '15', 'ide', 'of', 'march', 'march', '15', 'ide', 'of', 'march', 'the', 'philippin', 'televis', 'newscast', '24', 'ora', 'ha', 'won', 'thirtytwo', 'award', 'from', 'ninetythre', 'nomin', 'it', 'premier', 'on', 'gma', 'network', 'on', 'march', '15', '2004', 'and', 'focus', 'on', 'reportag', 'of', 'presentday', 'event', 'incorpor', 'dispar', 'segment', 'that', 'appear', 'recurringli', 'the', 'newscast', 'initi', 'featur', 'mel', 'tiangco', 'and', 'mike', 'enriquez', 'the', 'newscast', 'anchor', 'have', 'chang', 'significantli', 'dure', 'it', 'run', 'it', 'ha', 'won', 'five', 'box', 'offic', 'entertain', 'award', 'for', 'most', 'popular', 'tv', 'program', 'news', 'public', 'affair', 'the', 'newscast', 'ha', 'receiv', 'eight', 'asian', 'academi', 'creativ', 'award', 'nomin', 'win', 'one', 'and', 'fiftytwo', 'pmpc', 'star', 'award', 'for', 'televis', 'nomin', 'win', 'nine', 'at', 'the', '2009', 'new', 'york', 'festiv', 'tv', 'film', 'award', '24', 'ora', 'garner', 'a', 'gold', 'world', 'medal', 'and', 'a', 'silver', 'world', 'medal', 'it', 'wa', 'nomin', 'for', 'intern', 'emmi', 'award', 'for', 'best', 'news', 'in', '2013', 'and', 'receiv', 'a', 'peabodi', 'award', 'in', '2014', 'full', 'list', 'the', 'philippin', 'televis', 'newscast', '24', 'ora', 'ha', 'won', 'thirtytwo', 'award', 'from', 'ninetythre', 'nomin', 'it', 'premier', 'on', 'gma', 'network', 'on', 'march', '15', '2004', 'and', 'focus', 'on', 'reportag', 'of', 'presentday', 'event', 'incorpor', 'dispar', 'segment', 'that', 'appear', 'recurringli', 'the', 'newscast', 'initi', 'featur', 'mel', 'tiangco', 'and', 'mike', 'enriquez', 'the', 'newscast', 'anchor', 'have', 'chang', 'significantli', 'dure', 'it', 'run', 'it', 'ha', 'won', 'five', 'box', 'offic', 'entertain', 'award', 'for', 'most', 'popular', 'tv', 'program', 'news', 'public', 'affair', 'the', 'newscast', 'ha', 'receiv', 'eight', 'asian', 'academi', 'creativ', 'award', 'nomin', 'win', 'one', 'and', 'fiftytwo', 'pmpc', 'star', 'award', 'for', 'televis', 'nomin', 'win', 'nine', 'at', 'the', '2009', 'new', 'york', 'festiv', 'tv', 'film', 'award', '24', 'ora', 'garner', 'a', 'gold', 'world', 'medal', 'and', 'a', 'silver', 'world', 'medal', 'it', 'wa', 'nomin', 'for', 'intern', 'emmi', 'award', 'for', 'best', 'news', 'in', '2013', 'and', 'receiv', 'a', 'peabodi', 'award', 'in', '2014', 'full', 'list', 'fushimi', 'inaritaisha', 'is', 'the', 'main', 'shinto', 'shrine', 'of', 'the', 'japanes', 'deiti', 'inari', 'kami', 'locat', 'in', 'fushimiku', 'kyoto', 'it', 'sit', 'at', 'the', 'base', 'of', 'a', 'mountain', 'also', 'name', 'inari', 'locat', '233', 'metr', '764', 'ft', 'abov', 'sea', 'level', 'the', 'site', 'earliest', 'structur', 'were', 'built', 'in', '711', 'on', 'the', 'inariyama', 'hill', 'in', 'southwestern', 'kyoto', 'but', 'the', 'shrine', 'wa', 'reloc', 'in', '816', 'on', 'the', 'request', 'of', 'the', 'monk', 'kkai', 'it', 'gain', 'imperi', 'patronag', 'dure', 'the', 'earli', 'heian', 'period', 'and', 'the', 'main', 'shrine', 'structur', 'wa', 'built', 'in', '1499', 'thi', 'photograph', 'show', 'a', 'torii', 'path', 'at', 'fushimi', 'inaritaisha', 'with', 'a', 'hang', 'lantern', 'each', 'of', 'the', 'shrine', 'roughli', '10000', 'torii', 'gate', 'wa', 'donat', 'by', 'a', 'japanes', 'busi', 'and', 'approxim', '800', 'of', 'these', 'are', 'set', 'up', 'in', 'row', 'as', 'depict', 'here', 'that', 'give', 'the', 'impress', 'of', 'enter', 'a', 'tunnel', 'fushimi', 'inaritaisha', 'is', 'the', 'main', 'shinto', 'shrine', 'of', 'the', 'japanes', 'deiti', 'inari', 'kami', 'locat', 'in', 'fushimiku', 'kyoto', 'it', 'sit', 'at', 'the', 'base', 'of', 'a', 'mountain', 'also', 'name', 'inari', 'locat', '233', 'metr', '764', 'ft', 'abov', 'sea', 'level', 'the', 'site', 'earliest', 'structur', 'were', 'built', 'in', '711', 'on', 'the', 'inariyama', 'hill', 'in', 'southwestern', 'kyoto', 'but', 'the', 'shrine', 'wa', 'reloc', 'in', '816', 'on', 'the', 'request', 'of', 'the', 'monk', 'kkai', 'it', 'gain', 'imperi', 'patronag', 'dure', 'the', 'earli', 'heian', 'period', 'and', 'the', 'main', 'shrine', 'structur', 'wa', 'built', 'in', '1499', 'thi', 'photograph', 'show', 'a', 'torii', 'path', 'at', 'fushimi', 'inaritaisha', 'with', 'a', 'hang', 'lantern', 'each', 'of', 'the', 'shrine', 'roughli', '10000', 'torii', 'gate', 'wa', 'donat', 'by', 'a', 'japanes', 'busi', 'and', 'approxim', '800', 'of', 'these', 'are', 'set', 'up', 'in', 'row', 'as', 'depict', 'here', 'that', 'give', 'the', 'impress', 'of', 'enter', 'a', 'tunnel', 'photograph', 'credit', 'basil', 'morin', 'photograph', 'credit', 'basil', 'morin', 'wikipedia', 'is', 'written', 'by', 'volunt', 'editor', 'and', 'host', 'by', 'the', 'wikimedia', 'foundat', 'a', 'nonprofit', 'organ', 'that', 'also', 'host', 'a', 'rang', 'of', 'other', 'volunt', 'project', 'wikipedia', 'is', 'written', 'by', 'volunt', 'editor', 'and', 'host', 'by', 'the', 'wikimedia', 'foundat', 'a', 'nonprofit', 'organ', 'that', 'also', 'host', 'a', 'rang', 'of', 'other', 'volunt', 'project', 'thi', 'wikipedia', 'is', 'written', 'in', 'english', 'mani', 'other', 'wikipedia', 'are', 'avail', 'some', 'of', 'the', 'largest', 'are', 'list', 'below', 'thi', 'wikipedia', 'is', 'written', 'in', 'english', 'mani', 'other', 'wikipedia', 'are', 'avail', 'some', 'of', 'the', 'largest', 'are', 'list', 'below']\n"
     ]
    }
   ],
   "source": [
    "from nltk.stem import PorterStemmer\n",
    "\n",
    "# Initialize PorterStemmer\n",
    "stemmer = PorterStemmer()\n",
    "\n",
    "# Stem each word\n",
    "stemmed_words = [stemmer.stem(word) for word in words]\n",
    "\n",
    "print(stemmed_words)\n"
   ],
   "metadata": {
    "collapsed": false,
    "ExecuteTime": {
     "end_time": "2024-03-15T23:35:25.510608200Z",
     "start_time": "2024-03-15T23:35:25.449494600Z"
    }
   },
   "id": "f15091964c250590",
   "execution_count": 38
  },
  {
   "cell_type": "code",
   "outputs": [
    {
     "name": "stdout",
     "output_type": "stream",
     "text": [
      "['grants', 'canal', 'military', 'project', 'construct', 'canal', 'bend', 'mississippi', 'river', 'opposite', 'vicksburg', 'mississippi', 'american', 'civil', 'war', 'control', 'vicksburg', 'mississippi', 'considered', 'crucial', 'union', 'confederacy', 'june', '1862', 'union', 'officer', 'thomas', 'williams', 'sent', 'de', 'soto', 'point', 'men', 'dig', 'canal', 'bypass', 'strong', 'confederate', 'defenses', 'around', 'vicksburg', 'disease', 'falling', 'river', 'levels', 'prevented', 'completion', 'project', 'abandoned', 'january', '1863', 'ulysses', 'grant', 'took', 'interest', 'upstream', 'entrance', 'canal', 'moved', 'heavy', 'rains', 'flooding', 'interfered', 'project', 'work', 'abandoned', 'march', 'grant', 'eventually', 'used', 'methods', 'capture', 'vicksburg', '1876', 'mississippi', 'changed', 'course', 'cutting', 'across', 'de', 'soto', 'point', 'near', 'route', 'old', 'canal', 'isolating', 'vicksburg', 'river', 'citys', 'river', 'access', 'since', 'restored', 'small', 'section', 'canal', 'survives', 'full', 'article', 'grants', 'canal', 'military', 'project', 'construct', 'canal', 'bend', 'mississippi', 'river', 'opposite', 'vicksburg', 'mississippi', 'american', 'civil', 'war', 'control', 'vicksburg', 'mississippi', 'considered', 'crucial', 'union', 'confederacy', 'june', '1862', 'union', 'officer', 'thomas', 'williams', 'sent', 'de', 'soto', 'point', 'men', 'dig', 'canal', 'bypass', 'strong', 'confederate', 'defenses', 'around', 'vicksburg', 'disease', 'falling', 'river', 'levels', 'prevented', 'completion', 'project', 'abandoned', 'january', '1863', 'ulysses', 'grant', 'took', 'interest', 'upstream', 'entrance', 'canal', 'moved', 'heavy', 'rains', 'flooding', 'interfered', 'project', 'work', 'abandoned', 'march', 'grant', 'eventually', 'used', 'methods', 'capture', 'vicksburg', '1876', 'mississippi', 'changed', 'course', 'cutting', 'across', 'de', 'soto', 'point', 'near', 'route', 'old', 'canal', 'isolating', 'vicksburg', 'river', 'citys', 'river', 'access', 'since', 'restored', 'small', 'section', 'canal', 'survives', 'full', 'article', 'march', '15', 'ides', 'march', 'march', '15', 'ides', 'march', 'philippine', 'television', 'newscast', '24', 'oras', 'thirtytwo', 'awards', 'ninetythree', 'nominations', 'premiered', 'gma', 'network', 'march', '15', '2004', 'focuses', 'reportage', 'presentday', 'events', 'incorporating', 'disparate', 'segments', 'appear', 'recurringly', 'newscast', 'initially', 'featured', 'mel', 'tiangco', 'mike', 'enriquez', 'newscasts', 'anchors', 'changed', 'significantly', 'run', 'five', 'box', 'office', 'entertainment', 'awards', 'popular', 'tv', 'program', 'news', 'public', 'affairs', 'newscast', 'received', 'eight', 'asian', 'academy', 'creative', 'award', 'nominations', 'winning', 'one', 'fiftytwo', 'pmpc', 'star', 'awards', 'television', 'nominations', 'winning', 'nine', '2009', 'new', 'york', 'festivals', 'tv', 'film', 'awards', '24', 'oras', 'garnered', 'gold', 'world', 'medal', 'silver', 'world', 'medal', 'nominated', 'international', 'emmy', 'award', 'best', 'news', '2013', 'received', 'peabody', 'award', '2014', 'full', 'list', 'philippine', 'television', 'newscast', '24', 'oras', 'thirtytwo', 'awards', 'ninetythree', 'nominations', 'premiered', 'gma', 'network', 'march', '15', '2004', 'focuses', 'reportage', 'presentday', 'events', 'incorporating', 'disparate', 'segments', 'appear', 'recurringly', 'newscast', 'initially', 'featured', 'mel', 'tiangco', 'mike', 'enriquez', 'newscasts', 'anchors', 'changed', 'significantly', 'run', 'five', 'box', 'office', 'entertainment', 'awards', 'popular', 'tv', 'program', 'news', 'public', 'affairs', 'newscast', 'received', 'eight', 'asian', 'academy', 'creative', 'award', 'nominations', 'winning', 'one', 'fiftytwo', 'pmpc', 'star', 'awards', 'television', 'nominations', 'winning', 'nine', '2009', 'new', 'york', 'festivals', 'tv', 'film', 'awards', '24', 'oras', 'garnered', 'gold', 'world', 'medal', 'silver', 'world', 'medal', 'nominated', 'international', 'emmy', 'award', 'best', 'news', '2013', 'received', 'peabody', 'award', '2014', 'full', 'list', 'fushimi', 'inaritaisha', 'main', 'shinto', 'shrine', 'japanese', 'deity', 'inari', 'kami', 'located', 'fushimiku', 'kyoto', 'sits', 'base', 'mountain', 'also', 'named', 'inari', 'located', '233', 'metres', '764', 'ft', 'sea', 'level', 'sites', 'earliest', 'structures', 'built', '711', 'inariyama', 'hill', 'southwestern', 'kyoto', 'shrine', 'relocated', '816', 'request', 'monk', 'kkai', 'gained', 'imperial', 'patronage', 'early', 'heian', 'period', 'main', 'shrine', 'structure', 'built', '1499', 'photograph', 'shows', 'torii', 'path', 'fushimi', 'inaritaisha', 'hanging', 'lantern', 'shrines', 'roughly', '10000', 'torii', 'gates', 'donated', 'japanese', 'business', 'approximately', '800', 'set', 'rows', 'depicted', 'give', 'impression', 'entering', 'tunnel', 'fushimi', 'inaritaisha', 'main', 'shinto', 'shrine', 'japanese', 'deity', 'inari', 'kami', 'located', 'fushimiku', 'kyoto', 'sits', 'base', 'mountain', 'also', 'named', 'inari', 'located', '233', 'metres', '764', 'ft', 'sea', 'level', 'sites', 'earliest', 'structures', 'built', '711', 'inariyama', 'hill', 'southwestern', 'kyoto', 'shrine', 'relocated', '816', 'request', 'monk', 'kkai', 'gained', 'imperial', 'patronage', 'early', 'heian', 'period', 'main', 'shrine', 'structure', 'built', '1499', 'photograph', 'shows', 'torii', 'path', 'fushimi', 'inaritaisha', 'hanging', 'lantern', 'shrines', 'roughly', '10000', 'torii', 'gates', 'donated', 'japanese', 'business', 'approximately', '800', 'set', 'rows', 'depicted', 'give', 'impression', 'entering', 'tunnel', 'photograph', 'credit', 'basile', 'morin', 'photograph', 'credit', 'basile', 'morin', 'wikipedia', 'written', 'volunteer', 'editors', 'hosted', 'wikimedia', 'foundation', 'nonprofit', 'organization', 'also', 'hosts', 'range', 'volunteer', 'projects', 'wikipedia', 'written', 'volunteer', 'editors', 'hosted', 'wikimedia', 'foundation', 'nonprofit', 'organization', 'also', 'hosts', 'range', 'volunteer', 'projects', 'wikipedia', 'written', 'english', 'many', 'wikipedias', 'available', 'largest', 'listed', 'wikipedia', 'written', 'english', 'many', 'wikipedias', 'available', 'largest', 'listed']\n"
     ]
    },
    {
     "name": "stderr",
     "output_type": "stream",
     "text": [
      "[nltk_data] Downloading package stopwords to\n",
      "[nltk_data]     C:\\Users\\youssef\\AppData\\Roaming\\nltk_data...\n",
      "[nltk_data]   Package stopwords is already up-to-date!\n"
     ]
    }
   ],
   "source": [
    "import nltk\n",
    "from nltk.corpus import stopwords\n",
    "\n",
    "nltk.download('stopwords')\n",
    "stop_words = set(stopwords.words('english'))\n",
    "\n",
    "filtered_data = [word for word in stemmed_words if word.lower() not in stop_words]\n",
    "\n",
    "print(filtered_data)\n"
   ],
   "metadata": {
    "collapsed": false,
    "ExecuteTime": {
     "end_time": "2024-03-15T23:35:25.511606300Z",
     "start_time": "2024-03-15T23:35:25.469853700Z"
    }
   },
   "id": "f43b86a6df5de109",
   "execution_count": 39
  },
  {
   "cell_type": "code",
   "outputs": [
    {
     "name": "stdout",
     "output_type": "stream",
     "text": [
      "{'awards', 'sea', 'premiered', 'nominations', 'entrance', 'course', 'completion', 'imperial', 'work', 'network', 'grant', 'path', 'built', 'fushimi', 'considered', 'dig', 'methods', 'office', 'sites', 'written', 'garnered', 'citys', 'eight', 'williams', 'named', 'abandoned', 'wikipedias', 'level', 'segments', 'control', 'thomas', 'torii', 'mississippi', '15', 'popular', 'march', 'war', 'located', 'entertainment', 'confederacy', 'list', 'ninetythree', 'inaritaisha', 'isolating', 'news', 'york', 'depicted', 'hill', 'section', 'january', 'inariyama', 'one', 'organization', 'american', 'soto', 'levels', 'business', 'vicksburg', 'restored', 'photograph', 'largest', 'ft', 'tiangco', 'ulysses', 'give', 'kkai', 'interfered', 'public', 'mel', 'award', 'structure', 'events', 'around', 'hosts', 'full', 'academy', '24', 'construct', 'hosted', '1876', 'listed', '2014', 'grants', 'credit', 'basile', '2004', 'deity', 'opposite', 'philippine', 'sits', 'pmpc', 'flooding', 'festivals', 'received', 'heian', 'capture', 'television', 'film', 'base', 'project', 'point', 'editors', '764', 'moved', 'anchors', 'survives', 'monk', 'falling', 'strong', 'confederate', 'canal', 'run', 'mountain', 'request', 'earliest', 'silver', 'article', '233', 'metres', 'initially', 'patronage', 'impression', 'tunnel', 'bypass', 'tv', 'available', 'shinto', 'access', 'gates', 'presentday', 'newscasts', 'relocated', 'thirtytwo', 'defenses', 'medal', 'asian', 'box', 'near', 'fiftytwo', 'river', 'eventually', 'english', 'men', '800', 'nominated', 'bend', 'japanese', 'period', 'featured', 'donated', 'range', 'disparate', 'fushimiku', 'crucial', 'route', 'recurringly', 'structures', 'approximately', 'best', 'shows', 'gained', 'creative', 'set', 'ides', 'wikimedia', 'wikipedia', 'roughly', 'union', 'nine', 'many', 'projects', 'across', 'enriquez', 'gma', 'gold', 'nonprofit', 'southwestern', 'cutting', 'winning', 'focuses', 'peabody', 'civil', 'changed', 'upstream', 'de', '1862', 'program', '711', 'shrine', 'took', 'since', 'hanging', '2009', 'main', 'heavy', 'lantern', 'incorporating', 'volunteer', 'interest', 'newscast', 'sent', 'entering', '2013', 'used', 'mike', 'emmy', '1499', 'new', 'rains', 'shrines', 'reportage', '10000', 'kami', 'prevented', 'inari', 'international', '816', 'military', 'five', 'affairs', 'old', 'june', 'small', 'also', 'foundation', 'disease', 'early', 'oras', 'world', 'rows', 'officer', 'appear', 'kyoto', 'morin', '1863', 'star', 'significantly'}\n"
     ]
    }
   ],
   "source": [
    "unique_words = set(filtered_data)\n",
    "\n",
    "print(unique_words)"
   ],
   "metadata": {
    "collapsed": false,
    "ExecuteTime": {
     "end_time": "2024-03-15T23:37:30.750833100Z",
     "start_time": "2024-03-15T23:37:30.735824600Z"
    }
   },
   "id": "bf1517214660404d",
   "execution_count": 40
  },
  {
   "cell_type": "code",
   "outputs": [],
   "source": [],
   "metadata": {
    "collapsed": false
   },
   "id": "27fa93e0ff9c358c"
  }
 ],
 "metadata": {
  "kernelspec": {
   "display_name": "Python 3",
   "language": "python",
   "name": "python3"
  },
  "language_info": {
   "codemirror_mode": {
    "name": "ipython",
    "version": 2
   },
   "file_extension": ".py",
   "mimetype": "text/x-python",
   "name": "python",
   "nbconvert_exporter": "python",
   "pygments_lexer": "ipython2",
   "version": "2.7.6"
  }
 },
 "nbformat": 4,
 "nbformat_minor": 5
}
